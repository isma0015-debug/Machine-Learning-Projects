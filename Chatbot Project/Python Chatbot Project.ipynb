{
 "cells": [
  {
   "cell_type": "markdown",
   "id": "b425f5d1",
   "metadata": {},
   "source": [
    "# Deep Learning Project - Chatbot Project with Python \n",
    "<div class=\"alert alert-block alert-info\"> \n",
    "Today chatbots are everywhere, they are improving efficiency. Chatbot reduces the dependence on humans and can smartly answer the questions in real-time.\n",
    "</div>\n",
    "\n"
   ]
  },
  {
   "cell_type": "markdown",
   "id": "9f3e140f",
   "metadata": {},
   "source": [
    "***Category:*** Machine Learning\n",
    "\n",
    "**Programming Language:** Python\n",
    "\n",
    "***Tools & Libraries:*** Keras, Tensorflow, NLTK\n",
    "\n",
    "***Front End:*** Python – Tkinter\n",
    "\n",
    "**Back End:** Python\n",
    "\n",
    "**Prerequisites:** Python, Machine Learning"
   ]
  },
  {
   "cell_type": "markdown",
   "id": "68ee7f5a",
   "metadata": {},
   "source": [
    "## Introduction \n",
    "\n",
    "***What is Chatbot ?***   \n",
    "A chatbot is an intelligent piece of software that is capable of communicating and performing actions similar to a human. Chatbots are used a lot in customer interaction, marketing on social network sites and instantly messaging the client. There are two basic types of chatbot models based on how they are built; Retrieval based and Generative based models.\n",
    "  \n",
    "***About the Python Project – Chatbot***   \n",
    "In this Python project, we are going to build a chatbot using deep learning techniques. The chatbot will be trained on the dataset which contains categories (intents), pattern and responses. We use a special recurrent neural network (LSTM) to classify which category the user’s message belongs to and then we will give a random response from the list of responses.\n",
    "\n",
    "Let’s create a `retrieval based chatbot` using NLTK, Keras, Python, etc.\n",
    "\n",
    "***Prerequisites***  \n",
    "The project requires you to have good knowledge of Python, Keras, and Natural language processing (NLTK). Along with them, we will use some helping modules which you can download using the python-pip command : `pip install tensorflow, keras, pickle, nltk`"
   ]
  },
  {
   "cell_type": "markdown",
   "id": "84c47b2c",
   "metadata": {},
   "source": [
    "## Project structure :  \n",
    "The project will have the following structure:\n",
    "* `Intents.json` : The data file which has predefined patterns and responses.\n",
    "* `train_chatbot.py` : In this Python file, we wrote a script to build the model and train our chatbot.\n",
    "* `Words.pkl` : This is a pickle file in which we store the words Python object that contains a list of our vocabulary.\n",
    "* `Classes.pkl` : The classes pickle file contains the list of categories.\n",
    "* `Chatbot_model.h5` : This is the trained model that contains information about the model and has weights of the neurons.\n",
    "* `Chatgui.py` : This is the Python script in which we implemented GUI for our chatbot. Users can easily interact with the bot."
   ]
  },
  {
   "cell_type": "markdown",
   "id": "d4bc6334",
   "metadata": {},
   "source": [
    "## Table of Contents \n",
    "\n",
    "* [1. Import and load the data file ](#chap1)\n",
    "* [2. Preprocess data ](#chap2)\n",
    "* [3. Create training and testing data ](#chap3)\n",
    "* [4. Build the modelt](#chap4)\n",
    "* [5. Predict the response](#chap5)"
   ]
  },
  {
   "cell_type": "markdown",
   "id": "448ae535",
   "metadata": {},
   "source": [
    "### 1. Importing and loading the data file <a class=\"anchor\" id=\"chap1\"></a>\n",
    "\n",
    "First, make a file name as `training_chatbot.py`. We import the necessary packages for our chatbot and initialize the variables we will use in our Python project.\n"
   ]
  },
  {
   "cell_type": "markdown",
   "id": "fa105b81",
   "metadata": {},
   "source": [
    " <div class=\"alert alert-block alert-info\"> \n",
    "In the file : training_chatbot.py \n",
    "</div>\n"
   ]
  },
  {
   "cell_type": "code",
   "execution_count": 1,
   "id": "b94654fc",
   "metadata": {},
   "outputs": [],
   "source": [
    "# Loading  packages\n",
    "import nltk # for NLP \n",
    "from nltk.stem import WordNetLemmatizer\n",
    "\n",
    "import json\n",
    "import pickle\n",
    "import numpy as np\n",
    "from keras.models import Sequential\n",
    "from keras.layers import Dense, Activation, Dropout\n",
    "from keras.optimizers import SGD\n",
    "from keras.utils.vis_utils import plot_model\n",
    "import random"
   ]
  },
  {
   "cell_type": "code",
   "execution_count": 2,
   "id": "d9a17771",
   "metadata": {},
   "outputs": [],
   "source": [
    "# initialize the variables\n",
    "words=[]\n",
    "classes = []\n",
    "documents = []\n",
    "lemmatizer = WordNetLemmatizer()\n",
    "ignore_words = ['?', '!'] \n",
    "\n",
    "# Loading data ...\n",
    "data_file = open('Data/intents.json').read()\n",
    "#import pandas as pd\n",
    "#pd.read_json('intents.json')\n",
    "#pd.DataFrame(intents[\"intents\"])\n",
    "intents = json.loads(data_file)"
   ]
  },
  {
   "cell_type": "code",
   "execution_count": 3,
   "id": "8091e3d5",
   "metadata": {},
   "outputs": [
    {
     "data": {
      "text/plain": [
       "{'tag': 'greeting',\n",
       " 'patterns': ['Hi there',\n",
       "  'How are you',\n",
       "  'Is anyone there?',\n",
       "  'Hey',\n",
       "  'Hola',\n",
       "  'Hello',\n",
       "  'Good day'],\n",
       " 'responses': ['Hello, thanks for asking',\n",
       "  'Good to see you again',\n",
       "  'Hi there, how can I help?'],\n",
       " 'context': ['']}"
      ]
     },
     "execution_count": 3,
     "metadata": {},
     "output_type": "execute_result"
    }
   ],
   "source": [
    "#intents[\"intents\"]\n",
    "intents[\"intents\"][0] # first element "
   ]
  },
  {
   "cell_type": "markdown",
   "id": "d6118b74",
   "metadata": {},
   "source": [
    "### 2. Preparing the data <a class=\"anchor\" id=\"chap2\"></a>"
   ]
  },
  {
   "cell_type": "markdown",
   "id": "f486e767",
   "metadata": {},
   "source": [
    "We need to perform various preprocessing on the data before we make a machine learning or a deep learning model. Based on the requirements we need to apply various operations to preprocess the data."
   ]
  },
  {
   "cell_type": "markdown",
   "id": "f9a3d655",
   "metadata": {},
   "source": [
    "***Some definitions:***\n",
    "* Corpus: collection of text documents\n",
    "* Corps > Doc > Paragraph > Sentences > Tokens\n",
    "* Tokens : smaller units of a text (word, numbers,  phrases, ngrams)\n",
    "* Ngrams: combination of N word\n"
   ]
  },
  {
   "cell_type": "markdown",
   "id": "408fb12d",
   "metadata": {},
   "source": [
    "Here we iterate through the patterns and tokenize the sentence using nltk.word_tokenize() function and append each word in the words list. We also create a list of classes for our tags."
   ]
  },
  {
   "cell_type": "code",
   "execution_count": 4,
   "id": "fe3b0aef",
   "metadata": {},
   "outputs": [],
   "source": [
    "# Tokenizing is the process of breaking the whole text into small parts like words (tokens).\n",
    "for intent in intents['intents']:\n",
    "    for pattern in intent['patterns']:\n",
    "        #tokenize each word\n",
    "        w = nltk.word_tokenize(pattern)\n",
    "        words.extend(w)\n",
    "        #add documents in the corpus\n",
    "        documents.append((w, intent['tag']))\n",
    "        # add to our classes list\n",
    "        if intent['tag'] not in classes:\n",
    "            classes.append(intent['tag'])"
   ]
  },
  {
   "cell_type": "code",
   "execution_count": 5,
   "id": "0356c369",
   "metadata": {},
   "outputs": [
    {
     "data": {
      "text/plain": [
       "['greeting',\n",
       " 'goodbye',\n",
       " 'thanks',\n",
       " 'options',\n",
       " 'adverse_drug',\n",
       " 'blood_pressure',\n",
       " 'blood_pressure_search',\n",
       " 'pharmacy_search',\n",
       " 'hospital_search']"
      ]
     },
     "execution_count": 5,
     "metadata": {},
     "output_type": "execute_result"
    }
   ],
   "source": [
    "classes"
   ]
  },
  {
   "cell_type": "code",
   "execution_count": 6,
   "id": "74dbcf4c",
   "metadata": {},
   "outputs": [
    {
     "data": {
      "text/plain": [
       "['Hi', 'there', 'How', 'are', 'you', 'Is']"
      ]
     },
     "execution_count": 6,
     "metadata": {},
     "output_type": "execute_result"
    }
   ],
   "source": [
    "words[:6]"
   ]
  },
  {
   "cell_type": "markdown",
   "id": "1e98976a",
   "metadata": {},
   "source": [
    "Now we will lemmatize each word and remove duplicate words from the list. Lemmatizing is the process of converting a word into its lemma form and then creating a pickle file to store the Python objects which we will use while predicting."
   ]
  },
  {
   "cell_type": "code",
   "execution_count": 7,
   "id": "fb2163f9",
   "metadata": {},
   "outputs": [
    {
     "name": "stdout",
     "output_type": "stream",
     "text": [
      "> 47 documents\n",
      "> 9 classes : ['adverse_drug', 'blood_pressure', 'blood_pressure_search', 'goodbye', 'greeting', 'hospital_search', 'options', 'pharmacy_search', 'thanks']\n",
      "> 88 unique lemmatized words : [\"'s\", ',', 'a', 'adverse', 'all', 'anyone', 'are', 'awesome', 'be', 'behavior', 'blood', 'by', 'bye', 'can', 'causing', 'chatting', 'check', 'could', 'data', 'day', 'detail', 'do', 'dont', 'drug', 'entry', 'find', 'for', 'give', 'good', 'goodbye', 'have', 'hello', 'help', 'helpful', 'helping', 'hey', 'hi', 'history', 'hola', 'hospital', 'how', 'i', 'id', 'is', 'later', 'list', 'load', 'locate', 'log', 'looking', 'lookup', 'management', 'me', 'module', 'nearby', 'next', 'nice', 'of', 'offered', 'open', 'patient', 'pharmacy', 'pressure', 'provide', 'reaction', 'related', 'result', 'search', 'searching', 'see', 'show', 'suitable', 'support', 'task', 'thank', 'thanks', 'that', 'there', 'till', 'time', 'to', 'transfer', 'up', 'want', 'what', 'which', 'with', 'you']\n"
     ]
    }
   ],
   "source": [
    "# systematic process for reducing a token to its lemma \n",
    "# lemmatize, lower each word and remove duplicates\n",
    "words = [lemmatizer.lemmatize(w.lower()) for w in words if w not in ignore_words]\n",
    "words = sorted(list(set(words)))\n",
    "# sort classes\n",
    "classes = sorted(list(set(classes)))\n",
    "# documents = combination between patterns and intents\n",
    "print(\">\",len(documents), \"documents\")\n",
    "# classes = intents\n",
    "print (\">\",len(classes), \"classes :\", classes)\n",
    "# words = all words, vocabulary\n",
    "print (\">\",len(words), \"unique lemmatized words :\", words)\n",
    "\n",
    "#Save the list of our vocabulary (word) and the list of categories(classes)\n",
    "pickle.dump(words,open('words.pkl','wb'))\n",
    "pickle.dump(classes,open('classes.pkl','wb'))"
   ]
  },
  {
   "cell_type": "markdown",
   "id": "47614447",
   "metadata": {},
   "source": [
    "### 3. Splitting data into training set and testing set  <a class=\"anchor\" id=\"chap3\"></a>\n",
    "\n",
    " - The dataset is split into train and test sets so that we can evaluate our model's performance on unseen data.\n",
    " - The model will only be trained on the `train` set and will make predictions on the `test` set whose data points the model has never seen. This will make sure that we have a proper way to test the model.\n",
    " \n",
    "We will create the training data in which we will provide the input and the output. Our input will be the pattern and output will be the class our input pattern belongs to. But the computer doesn’t understand text so we will convert text into numbers.\n"
   ]
  },
  {
   "cell_type": "code",
   "execution_count": 8,
   "id": "c1d8c3b8",
   "metadata": {},
   "outputs": [],
   "source": [
    "# create our training data\n",
    "training = []\n",
    "# create an empty array for our output\n",
    "output_empty = [0] * len(classes)"
   ]
  },
  {
   "cell_type": "code",
   "execution_count": 9,
   "id": "ebbbdeff",
   "metadata": {},
   "outputs": [],
   "source": [
    "# training set, bag of words for each sentence\n",
    "for doc in documents:\n",
    "    # initialize our bag of words\n",
    "    bag = []\n",
    "    # list of tokenized words for the pattern\n",
    "    pattern_words = doc[0]\n",
    "    # lemmatize each word - create base word, in attempt to represent related words\n",
    "    pattern_words = [lemmatizer.lemmatize(word.lower()) for word in pattern_words]\n",
    "    # create our bag of words array with 1, if word match found in current pattern\n",
    "    for w in words:\n",
    "        bag.append(1) if w in pattern_words else bag.append(0)\n",
    "    # output is a '0' for each tag and '1' for current tag (for each pattern)\n",
    "    output_row = list(output_empty)\n",
    "    output_row[classes.index(doc[1])] = 1\n",
    "    training.append([bag, output_row])"
   ]
  },
  {
   "cell_type": "code",
   "execution_count": 10,
   "id": "824e9ae8",
   "metadata": {},
   "outputs": [
    {
     "name": "stdout",
     "output_type": "stream",
     "text": [
      "Training data created\n"
     ]
    },
    {
     "name": "stderr",
     "output_type": "stream",
     "text": [
      "<ipython-input-10-9ffac2c3f218>:3: VisibleDeprecationWarning: Creating an ndarray from ragged nested sequences (which is a list-or-tuple of lists-or-tuples-or ndarrays with different lengths or shapes) is deprecated. If you meant to do this, you must specify 'dtype=object' when creating the ndarray.\n",
      "  training = np.array(training)\n"
     ]
    }
   ],
   "source": [
    "# shuffle our features and turn into np.array\n",
    "random.shuffle(training)\n",
    "training = np.array(training)\n",
    "# create train and test lists. X - patterns, Y - intents\n",
    "train_x = list(training[:,0])\n",
    "train_y = list(training[:,1])\n",
    "print(\"Training data created\")"
   ]
  },
  {
   "cell_type": "markdown",
   "id": "0fa03b7b",
   "metadata": {},
   "source": [
    "### 4. Build the model <a class=\"anchor\" id=\"chap4\"></a>\n",
    "We have our training data ready, now we will build a deep neural network that has 3 layers. We use the Keras sequential API for this. After training the model for 200 epochs, we achieved 100% accuracy on our model. Let us save the model as `chatbot_model.h5`."
   ]
  },
  {
   "cell_type": "code",
   "execution_count": 11,
   "id": "31baad35",
   "metadata": {},
   "outputs": [
    {
     "name": "stdout",
     "output_type": "stream",
     "text": [
      "Model: \"sequential\"\n",
      "_________________________________________________________________\n",
      "Layer (type)                 Output Shape              Param #   \n",
      "=================================================================\n",
      "dense (Dense)                (None, 128)               11392     \n",
      "_________________________________________________________________\n",
      "dropout (Dropout)            (None, 128)               0         \n",
      "_________________________________________________________________\n",
      "dense_1 (Dense)              (None, 64)                8256      \n",
      "_________________________________________________________________\n",
      "dropout_1 (Dropout)          (None, 64)                0         \n",
      "_________________________________________________________________\n",
      "dense_2 (Dense)              (None, 9)                 585       \n",
      "=================================================================\n",
      "Total params: 20,233\n",
      "Trainable params: 20,233\n",
      "Non-trainable params: 0\n",
      "_________________________________________________________________\n"
     ]
    },
    {
     "data": {
      "image/png": "[encoded data removed]",
      "text/plain": [
       "<IPython.core.display.Image object>"
      ]
     },
     "execution_count": 11,
     "metadata": {},
     "output_type": "execute_result"
    }
   ],
   "source": [
    "# Create model - 3 layers. First layer 128 neurons, second layer 64 neurons and 3rd output layer contains number of neurons\n",
    "# equal to number of intents to predict output intent with softmax\n",
    "model = Sequential()\n",
    "model.add(Dense(128, input_shape=(len(train_x[0]),), activation='relu'))\n",
    "model.add(Dropout(0.5))\n",
    "model.add(Dense(64, activation='relu'))\n",
    "model.add(Dropout(0.5))\n",
    "model.add(Dense(len(train_y[0]), activation='softmax'))\n",
    "\n",
    "model.summary()\n",
    "# or \n",
    "plot_model(model, to_file='model_plot.png', show_shapes=True, show_layer_names=True)"
   ]
  },
  {
   "cell_type": "code",
   "execution_count": 17,
   "id": "4043db5b",
   "metadata": {},
   "outputs": [
    {
     "name": "stdout",
     "output_type": "stream",
     "text": [
      "Epoch 1/200\n",
      "10/10 [==============================] - 0s 998us/step - loss: 0.0413 - accuracy: 1.0000\n",
      "Epoch 2/200\n",
      "10/10 [==============================] - 0s 2ms/step - loss: 0.0243 - accuracy: 1.0000\n",
      "Epoch 3/200\n",
      "10/10 [==============================] - 0s 1ms/step - loss: 0.0394 - accuracy: 1.0000\n",
      "Epoch 4/200\n",
      "10/10 [==============================] - 0s 1ms/step - loss: 0.0137 - accuracy: 1.0000\n",
      "Epoch 5/200\n",
      "10/10 [==============================] - 0s 1ms/step - loss: 0.0282 - accuracy: 0.9787\n",
      "Epoch 6/200\n",
      "10/10 [==============================] - 0s 1ms/step - loss: 0.0275 - accuracy: 1.0000\n",
      "Epoch 7/200\n",
      "10/10 [==============================] - 0s 1ms/step - loss: 0.0143 - accuracy: 1.0000\n",
      "Epoch 8/200\n",
      "10/10 [==============================] - 0s 798us/step - loss: 0.0438 - accuracy: 0.9787\n",
      "Epoch 9/200\n",
      "10/10 [==============================] - 0s 898us/step - loss: 0.0200 - accuracy: 1.0000\n",
      "Epoch 10/200\n",
      "10/10 [==============================] - 0s 899us/step - loss: 0.0056 - accuracy: 1.0000\n",
      "Epoch 11/200\n",
      "10/10 [==============================] - 0s 698us/step - loss: 0.0200 - accuracy: 1.0000\n",
      "Epoch 12/200\n",
      "10/10 [==============================] - 0s 798us/step - loss: 0.0187 - accuracy: 1.0000\n",
      "Epoch 13/200\n",
      "10/10 [==============================] - 0s 997us/step - loss: 0.0125 - accuracy: 1.0000\n",
      "Epoch 14/200\n",
      "10/10 [==============================] - 0s 798us/step - loss: 0.0085 - accuracy: 1.0000\n",
      "Epoch 15/200\n",
      "10/10 [==============================] - 0s 898us/step - loss: 0.0212 - accuracy: 1.0000\n",
      "Epoch 16/200\n",
      "10/10 [==============================] - 0s 997us/step - loss: 0.0139 - accuracy: 1.0000\n",
      "Epoch 17/200\n",
      "10/10 [==============================] - 0s 798us/step - loss: 0.0322 - accuracy: 1.0000\n",
      "Epoch 18/200\n",
      "10/10 [==============================] - 0s 897us/step - loss: 0.0039 - accuracy: 1.0000\n",
      "Epoch 19/200\n",
      "10/10 [==============================] - 0s 898us/step - loss: 0.0055 - accuracy: 1.0000\n",
      "Epoch 20/200\n",
      "10/10 [==============================] - 0s 898us/step - loss: 0.0273 - accuracy: 1.0000\n",
      "Epoch 21/200\n",
      "10/10 [==============================] - 0s 898us/step - loss: 0.0200 - accuracy: 1.0000\n",
      "Epoch 22/200\n",
      "10/10 [==============================] - 0s 898us/step - loss: 0.0438 - accuracy: 0.9787\n",
      "Epoch 23/200\n",
      "10/10 [==============================] - 0s 997us/step - loss: 0.0145 - accuracy: 1.0000\n",
      "Epoch 24/200\n",
      "10/10 [==============================] - 0s 698us/step - loss: 0.0122 - accuracy: 1.0000\n",
      "Epoch 25/200\n",
      "10/10 [==============================] - 0s 798us/step - loss: 0.0104 - accuracy: 1.0000\n",
      "Epoch 26/200\n",
      "10/10 [==============================] - 0s 898us/step - loss: 0.0527 - accuracy: 1.0000\n",
      "Epoch 27/200\n",
      "10/10 [==============================] - 0s 998us/step - loss: 0.0415 - accuracy: 0.9787\n",
      "Epoch 28/200\n",
      "10/10 [==============================] - 0s 698us/step - loss: 0.0105 - accuracy: 1.0000\n",
      "Epoch 29/200\n",
      "10/10 [==============================] - 0s 997us/step - loss: 0.0037 - accuracy: 1.0000\n",
      "Epoch 30/200\n",
      "10/10 [==============================] - 0s 1ms/step - loss: 0.0375 - accuracy: 0.9787\n",
      "Epoch 31/200\n",
      "10/10 [==============================] - 0s 1ms/step - loss: 0.0069 - accuracy: 1.0000\n",
      "Epoch 32/200\n",
      "10/10 [==============================] - 0s 1ms/step - loss: 0.0069 - accuracy: 1.0000\n",
      "Epoch 33/200\n",
      "10/10 [==============================] - 0s 799us/step - loss: 0.0208 - accuracy: 1.0000\n",
      "Epoch 34/200\n",
      "10/10 [==============================] - 0s 997us/step - loss: 0.0058 - accuracy: 1.0000\n",
      "Epoch 35/200\n",
      "10/10 [==============================] - 0s 898us/step - loss: 0.0408 - accuracy: 1.0000\n",
      "Epoch 36/200\n",
      "10/10 [==============================] - 0s 997us/step - loss: 0.0012 - accuracy: 1.0000\n",
      "Epoch 37/200\n",
      "10/10 [==============================] - 0s 3ms/step - loss: 0.0301 - accuracy: 0.9787\n",
      "Epoch 38/200\n",
      "10/10 [==============================] - 0s 2ms/step - loss: 0.0071 - accuracy: 1.0000\n",
      "Epoch 39/200\n",
      "10/10 [==============================] - 0s 1ms/step - loss: 0.0033 - accuracy: 1.0000\n",
      "Epoch 40/200\n",
      "10/10 [==============================] - 0s 997us/step - loss: 0.0102 - accuracy: 1.0000\n",
      "Epoch 41/200\n",
      "10/10 [==============================] - 0s 1ms/step - loss: 0.0056 - accuracy: 1.0000\n",
      "Epoch 42/200\n",
      "10/10 [==============================] - 0s 2ms/step - loss: 0.0120 - accuracy: 1.0000\n",
      "Epoch 43/200\n",
      "10/10 [==============================] - 0s 1ms/step - loss: 0.0074 - accuracy: 1.0000\n",
      "Epoch 44/200\n",
      "10/10 [==============================] - 0s 1ms/step - loss: 0.0058 - accuracy: 1.0000\n",
      "Epoch 45/200\n",
      "10/10 [==============================] - 0s 2ms/step - loss: 0.0042 - accuracy: 1.0000\n",
      "Epoch 46/200\n",
      "10/10 [==============================] - 0s 1ms/step - loss: 0.0036 - accuracy: 1.0000\n",
      "Epoch 47/200\n",
      "10/10 [==============================] - 0s 1ms/step - loss: 0.0050 - accuracy: 1.0000\n",
      "Epoch 48/200\n",
      "10/10 [==============================] - 0s 1ms/step - loss: 0.0044 - accuracy: 1.0000\n",
      "Epoch 49/200\n",
      "10/10 [==============================] - 0s 1ms/step - loss: 0.0199 - accuracy: 0.9787\n",
      "Epoch 50/200\n",
      "10/10 [==============================] - 0s 898us/step - loss: 0.0116 - accuracy: 1.0000\n",
      "Epoch 51/200\n",
      "10/10 [==============================] - 0s 698us/step - loss: 0.0238 - accuracy: 0.9787\n",
      "Epoch 52/200\n",
      "10/10 [==============================] - 0s 798us/step - loss: 0.0042 - accuracy: 1.0000\n",
      "Epoch 53/200\n",
      "10/10 [==============================] - 0s 898us/step - loss: 0.0041 - accuracy: 1.0000\n",
      "Epoch 54/200\n",
      "10/10 [==============================] - 0s 698us/step - loss: 0.0485 - accuracy: 0.9787\n",
      "Epoch 55/200\n",
      "10/10 [==============================] - 0s 1ms/step - loss: 0.0308 - accuracy: 1.0000\n",
      "Epoch 56/200\n",
      "10/10 [==============================] - 0s 997us/step - loss: 0.0304 - accuracy: 1.0000\n",
      "Epoch 57/200\n",
      "10/10 [==============================] - 0s 798us/step - loss: 0.0542 - accuracy: 0.9787\n",
      "Epoch 58/200\n",
      "10/10 [==============================] - 0s 798us/step - loss: 0.0332 - accuracy: 1.0000\n",
      "Epoch 59/200\n",
      "10/10 [==============================] - 0s 898us/step - loss: 0.0446 - accuracy: 0.9787\n",
      "Epoch 60/200\n",
      "10/10 [==============================] - 0s 1ms/step - loss: 0.0072 - accuracy: 1.0000\n",
      "Epoch 61/200\n",
      "10/10 [==============================] - 0s 798us/step - loss: 0.0121 - accuracy: 1.0000\n",
      "Epoch 62/200\n",
      "10/10 [==============================] - 0s 997us/step - loss: 0.0249 - accuracy: 1.0000\n",
      "Epoch 63/200\n",
      "10/10 [==============================] - 0s 897us/step - loss: 0.0361 - accuracy: 0.9787\n",
      "Epoch 64/200\n",
      "10/10 [==============================] - 0s 997us/step - loss: 0.0569 - accuracy: 0.9787\n",
      "Epoch 65/200\n",
      "10/10 [==============================] - 0s 798us/step - loss: 0.0210 - accuracy: 1.0000\n",
      "Epoch 66/200\n",
      "10/10 [==============================] - 0s 698us/step - loss: 0.0040 - accuracy: 1.0000\n",
      "Epoch 67/200\n",
      "10/10 [==============================] - 0s 698us/step - loss: 0.0028 - accuracy: 1.0000\n",
      "Epoch 68/200\n",
      "10/10 [==============================] - 0s 799us/step - loss: 0.0060 - accuracy: 1.0000\n",
      "Epoch 69/200\n",
      "10/10 [==============================] - 0s 698us/step - loss: 0.0374 - accuracy: 1.0000\n",
      "Epoch 70/200\n",
      "10/10 [==============================] - 0s 698us/step - loss: 0.0040 - accuracy: 1.0000\n",
      "Epoch 71/200\n",
      "10/10 [==============================] - 0s 697us/step - loss: 0.0040 - accuracy: 1.0000\n",
      "Epoch 72/200\n",
      "10/10 [==============================] - 0s 598us/step - loss: 0.0018 - accuracy: 1.0000\n",
      "Epoch 73/200\n",
      "10/10 [==============================] - 0s 601us/step - loss: 8.2383e-04 - accuracy: 1.0000\n",
      "Epoch 74/200\n",
      "10/10 [==============================] - 0s 600us/step - loss: 0.0057 - accuracy: 1.0000\n",
      "Epoch 75/200\n",
      "10/10 [==============================] - 0s 698us/step - loss: 0.0098 - accuracy: 1.0000\n",
      "Epoch 76/200\n",
      "10/10 [==============================] - 0s 598us/step - loss: 0.0473 - accuracy: 0.9787\n",
      "Epoch 77/200\n",
      "10/10 [==============================] - 0s 672us/step - loss: 0.0085 - accuracy: 1.0000\n",
      "Epoch 78/200\n",
      "10/10 [==============================] - 0s 698us/step - loss: 0.0097 - accuracy: 1.0000\n",
      "Epoch 79/200\n",
      "10/10 [==============================] - 0s 698us/step - loss: 0.0193 - accuracy: 1.0000\n",
      "Epoch 80/200\n",
      "10/10 [==============================] - 0s 698us/step - loss: 0.0050 - accuracy: 1.0000\n",
      "Epoch 81/200\n",
      "10/10 [==============================] - 0s 1ms/step - loss: 0.0019 - accuracy: 1.0000\n",
      "Epoch 82/200\n",
      "10/10 [==============================] - 0s 811us/step - loss: 0.0291 - accuracy: 1.0000\n",
      "Epoch 83/200\n",
      "10/10 [==============================] - 0s 698us/step - loss: 0.0265 - accuracy: 1.0000\n",
      "Epoch 84/200\n",
      "10/10 [==============================] - 0s 899us/step - loss: 0.0097 - accuracy: 1.0000\n",
      "Epoch 85/200\n",
      "10/10 [==============================] - 0s 798us/step - loss: 0.0201 - accuracy: 1.0000\n",
      "Epoch 86/200\n",
      "10/10 [==============================] - 0s 698us/step - loss: 0.0044 - accuracy: 1.0000\n",
      "Epoch 87/200\n",
      "10/10 [==============================] - 0s 500us/step - loss: 0.0098 - accuracy: 1.0000\n",
      "Epoch 88/200\n",
      "10/10 [==============================] - 0s 798us/step - loss: 0.0035 - accuracy: 1.0000\n",
      "Epoch 89/200\n",
      "10/10 [==============================] - 0s 799us/step - loss: 0.0019 - accuracy: 1.0000\n",
      "Epoch 90/200\n",
      "10/10 [==============================] - 0s 799us/step - loss: 0.0153 - accuracy: 1.0000\n",
      "Epoch 91/200\n",
      "10/10 [==============================] - 0s 798us/step - loss: 0.0024 - accuracy: 1.0000\n",
      "Epoch 92/200\n",
      "10/10 [==============================] - 0s 700us/step - loss: 0.0040 - accuracy: 1.0000\n",
      "Epoch 93/200\n",
      "10/10 [==============================] - 0s 798us/step - loss: 0.0062 - accuracy: 1.0000\n",
      "Epoch 94/200\n",
      "10/10 [==============================] - 0s 894us/step - loss: 0.0072 - accuracy: 1.0000\n",
      "Epoch 95/200\n",
      "10/10 [==============================] - 0s 795us/step - loss: 0.0022 - accuracy: 1.0000\n",
      "Epoch 96/200\n",
      "10/10 [==============================] - 0s 798us/step - loss: 0.0307 - accuracy: 0.9787\n",
      "Epoch 97/200\n",
      "10/10 [==============================] - 0s 998us/step - loss: 0.0069 - accuracy: 1.0000\n",
      "Epoch 98/200\n",
      "10/10 [==============================] - 0s 901us/step - loss: 0.0248 - accuracy: 0.9787\n",
      "Epoch 99/200\n",
      "10/10 [==============================] - 0s 876us/step - loss: 0.0080 - accuracy: 1.0000\n",
      "Epoch 100/200\n",
      "10/10 [==============================] - 0s 897us/step - loss: 8.7257e-04 - accuracy: 1.0000\n",
      "Epoch 101/200\n",
      "10/10 [==============================] - 0s 598us/step - loss: 0.0027 - accuracy: 1.0000\n",
      "Epoch 102/200\n",
      "10/10 [==============================] - 0s 698us/step - loss: 0.0211 - accuracy: 1.0000\n",
      "Epoch 103/200\n",
      "10/10 [==============================] - 0s 698us/step - loss: 0.0030 - accuracy: 1.0000\n",
      "Epoch 104/200\n",
      "10/10 [==============================] - 0s 698us/step - loss: 0.0149 - accuracy: 1.0000\n",
      "Epoch 105/200\n",
      "10/10 [==============================] - 0s 598us/step - loss: 0.0014 - accuracy: 1.0000\n",
      "Epoch 106/200\n",
      "10/10 [==============================] - 0s 598us/step - loss: 0.0026 - accuracy: 1.0000\n",
      "Epoch 107/200\n",
      "10/10 [==============================] - 0s 599us/step - loss: 0.0022 - accuracy: 1.0000\n",
      "Epoch 108/200\n",
      "10/10 [==============================] - 0s 729us/step - loss: 0.0139 - accuracy: 1.0000\n",
      "Epoch 109/200\n",
      "10/10 [==============================] - 0s 698us/step - loss: 0.0043 - accuracy: 1.0000\n",
      "Epoch 110/200\n",
      "10/10 [==============================] - 0s 743us/step - loss: 0.0049 - accuracy: 1.0000\n",
      "Epoch 111/200\n",
      "10/10 [==============================] - 0s 698us/step - loss: 0.0062 - accuracy: 1.0000\n",
      "Epoch 112/200\n",
      "10/10 [==============================] - 0s 499us/step - loss: 0.0044 - accuracy: 1.0000\n",
      "Epoch 113/200\n",
      "10/10 [==============================] - 0s 898us/step - loss: 0.0066 - accuracy: 1.0000\n",
      "Epoch 114/200\n",
      "10/10 [==============================] - 0s 698us/step - loss: 0.0174 - accuracy: 1.0000\n",
      "Epoch 115/200\n",
      "10/10 [==============================] - 0s 977us/step - loss: 0.0022 - accuracy: 1.0000\n",
      "Epoch 116/200\n",
      "10/10 [==============================] - 0s 898us/step - loss: 0.0032 - accuracy: 1.0000\n",
      "Epoch 117/200\n",
      "10/10 [==============================] - 0s 698us/step - loss: 0.0367 - accuracy: 0.9787\n",
      "Epoch 118/200\n",
      "10/10 [==============================] - 0s 698us/step - loss: 7.1987e-04 - accuracy: 1.0000\n",
      "Epoch 119/200\n",
      "10/10 [==============================] - 0s 598us/step - loss: 0.0018 - accuracy: 1.0000\n",
      "Epoch 120/200\n",
      "10/10 [==============================] - 0s 698us/step - loss: 0.0171 - accuracy: 1.0000\n",
      "Epoch 121/200\n",
      "10/10 [==============================] - 0s 798us/step - loss: 0.0152 - accuracy: 1.0000\n",
      "Epoch 122/200\n",
      "10/10 [==============================] - 0s 961us/step - loss: 0.0068 - accuracy: 1.0000\n",
      "Epoch 123/200\n",
      "10/10 [==============================] - 0s 912us/step - loss: 0.0077 - accuracy: 1.0000\n",
      "Epoch 124/200\n",
      "10/10 [==============================] - 0s 698us/step - loss: 0.0056 - accuracy: 1.0000\n",
      "Epoch 125/200\n",
      "10/10 [==============================] - 0s 767us/step - loss: 0.0143 - accuracy: 1.0000\n",
      "Epoch 126/200\n",
      "10/10 [==============================] - 0s 599us/step - loss: 0.0034 - accuracy: 1.0000\n",
      "Epoch 127/200\n",
      "10/10 [==============================] - 0s 598us/step - loss: 0.0062 - accuracy: 1.0000\n",
      "Epoch 128/200\n",
      "10/10 [==============================] - 0s 598us/step - loss: 0.0013 - accuracy: 1.0000\n",
      "Epoch 129/200\n",
      "10/10 [==============================] - 0s 698us/step - loss: 0.0453 - accuracy: 0.9787\n",
      "Epoch 130/200\n",
      "10/10 [==============================] - 0s 698us/step - loss: 0.0076 - accuracy: 1.0000\n",
      "Epoch 131/200\n",
      "10/10 [==============================] - 0s 598us/step - loss: 0.0037 - accuracy: 1.0000\n",
      "Epoch 132/200\n",
      "10/10 [==============================] - 0s 599us/step - loss: 0.0225 - accuracy: 1.0000\n",
      "Epoch 133/200\n",
      "10/10 [==============================] - 0s 598us/step - loss: 0.0167 - accuracy: 1.0000\n",
      "Epoch 134/200\n",
      "10/10 [==============================] - 0s 698us/step - loss: 0.0162 - accuracy: 1.0000\n",
      "Epoch 135/200\n",
      "10/10 [==============================] - 0s 598us/step - loss: 0.0192 - accuracy: 0.9787\n",
      "Epoch 136/200\n",
      "10/10 [==============================] - 0s 698us/step - loss: 0.0501 - accuracy: 0.9787\n",
      "Epoch 137/200\n",
      "10/10 [==============================] - 0s 598us/step - loss: 0.0024 - accuracy: 1.0000\n",
      "Epoch 138/200\n",
      "10/10 [==============================] - 0s 798us/step - loss: 0.0536 - accuracy: 0.9787\n",
      "Epoch 139/200\n",
      "10/10 [==============================] - 0s 697us/step - loss: 0.0536 - accuracy: 0.9787\n",
      "Epoch 140/200\n",
      "10/10 [==============================] - 0s 897us/step - loss: 0.0123 - accuracy: 1.0000\n",
      "Epoch 141/200\n",
      "10/10 [==============================] - 0s 699us/step - loss: 0.0055 - accuracy: 1.0000\n",
      "Epoch 142/200\n",
      "10/10 [==============================] - 0s 797us/step - loss: 0.0067 - accuracy: 1.0000\n",
      "Epoch 143/200\n",
      "10/10 [==============================] - 0s 901us/step - loss: 0.0141 - accuracy: 1.0000\n",
      "Epoch 144/200\n",
      "10/10 [==============================] - 0s 897us/step - loss: 0.0045 - accuracy: 1.0000\n",
      "Epoch 145/200\n",
      "10/10 [==============================] - 0s 797us/step - loss: 0.0039 - accuracy: 1.0000\n",
      "Epoch 146/200\n",
      "10/10 [==============================] - 0s 799us/step - loss: 0.0021 - accuracy: 1.0000\n",
      "Epoch 147/200\n",
      "10/10 [==============================] - 0s 1ms/step - loss: 0.0019 - accuracy: 1.0000\n",
      "Epoch 148/200\n",
      "10/10 [==============================] - 0s 997us/step - loss: 0.0148 - accuracy: 1.0000\n",
      "Epoch 149/200\n",
      "10/10 [==============================] - 0s 795us/step - loss: 0.0211 - accuracy: 1.0000\n",
      "Epoch 150/200\n",
      "10/10 [==============================] - 0s 797us/step - loss: 0.0078 - accuracy: 1.0000\n",
      "Epoch 151/200\n",
      "10/10 [==============================] - 0s 995us/step - loss: 0.0525 - accuracy: 0.9787\n",
      "Epoch 152/200\n",
      "10/10 [==============================] - 0s 900us/step - loss: 0.0681 - accuracy: 0.9787\n",
      "Epoch 153/200\n",
      "10/10 [==============================] - 0s 800us/step - loss: 0.0037 - accuracy: 1.0000\n",
      "Epoch 154/200\n",
      "10/10 [==============================] - 0s 798us/step - loss: 0.0070 - accuracy: 1.0000\n",
      "Epoch 155/200\n",
      "10/10 [==============================] - 0s 795us/step - loss: 0.0045 - accuracy: 1.0000\n",
      "Epoch 156/200\n",
      "10/10 [==============================] - 0s 696us/step - loss: 0.0028 - accuracy: 1.0000\n",
      "Epoch 157/200\n",
      "10/10 [==============================] - 0s 901us/step - loss: 0.0091 - accuracy: 1.0000\n",
      "Epoch 158/200\n",
      "10/10 [==============================] - 0s 801us/step - loss: 0.0067 - accuracy: 1.0000\n",
      "Epoch 159/200\n",
      "10/10 [==============================] - 0s 897us/step - loss: 0.0011 - accuracy: 1.0000\n",
      "Epoch 160/200\n",
      "10/10 [==============================] - 0s 698us/step - loss: 0.0025 - accuracy: 1.0000\n",
      "Epoch 161/200\n",
      "10/10 [==============================] - 0s 947us/step - loss: 0.0014 - accuracy: 1.0000\n",
      "Epoch 162/200\n",
      "10/10 [==============================] - 0s 698us/step - loss: 0.0073 - accuracy: 1.0000\n",
      "Epoch 163/200\n",
      "10/10 [==============================] - 0s 698us/step - loss: 0.0045 - accuracy: 1.0000\n",
      "Epoch 164/200\n",
      "10/10 [==============================] - 0s 714us/step - loss: 0.0086 - accuracy: 1.0000\n",
      "Epoch 165/200\n",
      "10/10 [==============================] - 0s 698us/step - loss: 0.0550 - accuracy: 0.9787\n",
      "Epoch 166/200\n",
      "10/10 [==============================] - 0s 598us/step - loss: 0.0039 - accuracy: 1.0000\n",
      "Epoch 167/200\n",
      "10/10 [==============================] - 0s 698us/step - loss: 0.0054 - accuracy: 1.0000\n",
      "Epoch 168/200\n",
      "10/10 [==============================] - 0s 598us/step - loss: 0.0053 - accuracy: 1.0000\n",
      "Epoch 169/200\n",
      "10/10 [==============================] - 0s 698us/step - loss: 0.0086 - accuracy: 1.0000\n",
      "Epoch 170/200\n",
      "10/10 [==============================] - 0s 698us/step - loss: 0.0033 - accuracy: 1.0000\n",
      "Epoch 171/200\n",
      "10/10 [==============================] - 0s 798us/step - loss: 0.0065 - accuracy: 1.0000\n",
      "Epoch 172/200\n",
      "10/10 [==============================] - 0s 598us/step - loss: 0.0029 - accuracy: 1.0000\n",
      "Epoch 173/200\n",
      "10/10 [==============================] - 0s 698us/step - loss: 0.0108 - accuracy: 1.0000\n",
      "Epoch 174/200\n",
      "10/10 [==============================] - 0s 598us/step - loss: 0.0153 - accuracy: 1.0000\n",
      "Epoch 175/200\n",
      "10/10 [==============================] - 0s 698us/step - loss: 0.0311 - accuracy: 0.9787\n",
      "Epoch 176/200\n",
      "10/10 [==============================] - 0s 698us/step - loss: 0.0078 - accuracy: 1.0000\n",
      "Epoch 177/200\n",
      "10/10 [==============================] - 0s 799us/step - loss: 0.0149 - accuracy: 1.0000\n",
      "Epoch 178/200\n",
      "10/10 [==============================] - 0s 895us/step - loss: 0.0394 - accuracy: 0.9787\n",
      "Epoch 179/200\n",
      "10/10 [==============================] - 0s 797us/step - loss: 0.0268 - accuracy: 0.9787\n",
      "Epoch 180/200\n",
      "10/10 [==============================] - 0s 698us/step - loss: 0.0030 - accuracy: 1.0000\n",
      "Epoch 181/200\n",
      "10/10 [==============================] - 0s 798us/step - loss: 0.0130 - accuracy: 1.0000\n",
      "Epoch 182/200\n",
      "10/10 [==============================] - 0s 731us/step - loss: 0.0020 - accuracy: 1.0000\n",
      "Epoch 183/200\n",
      "10/10 [==============================] - 0s 698us/step - loss: 0.0111 - accuracy: 1.0000\n",
      "Epoch 184/200\n",
      "10/10 [==============================] - 0s 800us/step - loss: 0.0045 - accuracy: 1.0000\n",
      "Epoch 185/200\n",
      "10/10 [==============================] - 0s 699us/step - loss: 0.0128 - accuracy: 1.0000\n",
      "Epoch 186/200\n",
      "10/10 [==============================] - 0s 698us/step - loss: 0.0064 - accuracy: 1.0000\n",
      "Epoch 187/200\n",
      "10/10 [==============================] - 0s 850us/step - loss: 0.0019 - accuracy: 1.0000\n",
      "Epoch 188/200\n",
      "10/10 [==============================] - 0s 898us/step - loss: 0.0163 - accuracy: 1.0000\n",
      "Epoch 189/200\n",
      "10/10 [==============================] - 0s 897us/step - loss: 0.0125 - accuracy: 1.0000\n",
      "Epoch 190/200\n",
      "10/10 [==============================] - 0s 898us/step - loss: 0.0070 - accuracy: 1.0000\n",
      "Epoch 191/200\n",
      "10/10 [==============================] - 0s 798us/step - loss: 6.3432e-04 - accuracy: 1.0000\n",
      "Epoch 192/200\n",
      "10/10 [==============================] - 0s 994us/step - loss: 4.8383e-04 - accuracy: 1.0000\n",
      "Epoch 193/200\n",
      "10/10 [==============================] - 0s 999us/step - loss: 0.0026 - accuracy: 1.0000\n",
      "Epoch 194/200\n",
      "10/10 [==============================] - 0s 698us/step - loss: 0.0106 - accuracy: 1.0000\n",
      "Epoch 195/200\n",
      "10/10 [==============================] - 0s 900us/step - loss: 0.0078 - accuracy: 1.0000\n",
      "Epoch 196/200\n",
      "10/10 [==============================] - 0s 896us/step - loss: 6.9310e-04 - accuracy: 1.0000\n",
      "Epoch 197/200\n",
      "10/10 [==============================] - 0s 951us/step - loss: 0.0023 - accuracy: 1.0000\n",
      "Epoch 198/200\n",
      "10/10 [==============================] - 0s 1ms/step - loss: 0.0054 - accuracy: 1.0000\n",
      "Epoch 199/200\n",
      "10/10 [==============================] - 0s 898us/step - loss: 0.0771 - accuracy: 0.9787\n",
      "Epoch 200/200\n",
      "10/10 [==============================] - 0s 898us/step - loss: 0.0030 - accuracy: 1.0000\n",
      "Training finished\n"
     ]
    }
   ],
   "source": [
    "# Compile model. Stochastic gradient descent with Nesterov accelerated gradient gives good results for this model\n",
    "sgd = SGD(lr=0.01, decay=1e-6, momentum=0.9, nesterov=True)\n",
    "model.compile(loss='categorical_crossentropy', optimizer=sgd, metrics=['accuracy'])\n",
    "#fitting and saving the model \n",
    "hist = model.fit(np.array(train_x), np.array(train_y), epochs=200, batch_size=5, verbose=1)\n",
    "print('Training finished')"
   ]
  },
  {
   "cell_type": "code",
   "execution_count": 23,
   "id": "cdd7e56b",
   "metadata": {},
   "outputs": [
    {
     "name": "stdout",
     "output_type": "stream",
     "text": [
      "model created\n"
     ]
    }
   ],
   "source": [
    "# saving the model \n",
    "model.save('chatbot_model.h5', hist)\n",
    "print(\"model created\")"
   ]
  },
  {
   "cell_type": "markdown",
   "id": "129d54d2",
   "metadata": {},
   "source": [
    "### 5. Predict the response (Graphical User Interface) <a class=\"anchor\" id=\"chap5\"></a>\n",
    "\n",
    "To predict the sentences and get a response from the user to let us create a new file `chatbot_app.py`.\n",
    "\n",
    "We will load the trained model and then use a graphical user interface that will predict the response from the bot. The model will only tell us the class it belongs to, so we will implement some functions which will identify the class and then retrieve us a random response from the list of responses.\n",
    "\n",
    "Again we import the necessary packages and load the ‘words.pkl’ and ‘classes.pkl’ pickle files which we have created when we trained our model"
   ]
  },
  {
   "cell_type": "markdown",
   "id": "8e16e0ed",
   "metadata": {},
   "source": [
    " <div class=\"alert alert-block alert-info\"> \n",
    "In the file : chatbot_app.py \n",
    "</div>\n"
   ]
  },
  {
   "cell_type": "code",
   "execution_count": 15,
   "id": "2c0977ea",
   "metadata": {},
   "outputs": [],
   "source": [
    "import nltk\n",
    "from nltk.stem import WordNetLemmatizer\n",
    "lemmatizer = WordNetLemmatizer()\n",
    "import pickle\n",
    "import numpy as np\n",
    "from keras.models import load_model\n",
    "model = load_model('chatbot_model.h5')\n",
    "import json\n",
    "import random\n",
    "intents = json.loads(open('Data/intents.json').read())\n",
    "words = pickle.load(open('words.pkl','rb'))\n",
    "classes = pickle.load(open('classes.pkl','rb'))"
   ]
  },
  {
   "cell_type": "markdown",
   "id": "61ec223e",
   "metadata": {},
   "source": [
    "To predict the class, we will need to provide input in the same way as we did while training. So we will create some functions that will perform text preprocessing and then predict the class."
   ]
  },
  {
   "cell_type": "code",
   "execution_count": 16,
   "id": "2f9a7b45",
   "metadata": {},
   "outputs": [],
   "source": [
    "def clean_up_sentence(sentence):\n",
    "    # tokenize the pattern - split words into array\n",
    "    sentence_words = nltk.word_tokenize(sentence)\n",
    "    # stem each word - create short form for word\n",
    "    sentence_words = [lemmatizer.lemmatize(word.lower()) for word in sentence_words]\n",
    "    return sentence_words\n",
    "    # return bag of words array: 0 or 1 for each word in the bag that exists in the sentence\n",
    "\n",
    "def bow(sentence, words, show_details=True):\n",
    "    # tokenize the pattern\n",
    "    sentence_words = clean_up_sentence(sentence)\n",
    "    # bag of words - matrix of N words, vocabulary matrix\n",
    "    bag = [0]*len(words) \n",
    "    for s in sentence_words:\n",
    "        for i,w in enumerate(words):\n",
    "            if w == s: \n",
    "                # assign 1 if current word is in the vocabulary position\n",
    "                bag[i] = 1\n",
    "                if show_details:\n",
    "                    print (\"found in bag: %s\" % w)\n",
    "    return(np.array(bag))\n",
    "\n",
    "def predict_class(sentence, model):\n",
    "    # filter out predictions below a threshold\n",
    "    p = bow(sentence, words,show_details=False)\n",
    "    res = model.predict(np.array([p]))[0]\n",
    "    ERROR_THRESHOLD = 0.25\n",
    "    results = [[i,r] for i,r in enumerate(res) if r>ERROR_THRESHOLD]\n",
    "    # sort by strength of probability\n",
    "    results.sort(key=lambda x: x[1], reverse=True)\n",
    "    return_list = []\n",
    "    for r in results:\n",
    "        return_list.append({\"intent\": classes[r[0]], \"probability\": str(r[1])})\n",
    "    return return_list"
   ]
  },
  {
   "cell_type": "markdown",
   "id": "8ee17cf5",
   "metadata": {},
   "source": [
    "After predicting the class, we will get a random response from the list of intents."
   ]
  },
  {
   "cell_type": "code",
   "execution_count": 24,
   "id": "8005cc06",
   "metadata": {},
   "outputs": [],
   "source": [
    "def getResponse(ints, intents_json):\n",
    "    tag = ints[0]['intent']\n",
    "    list_of_intents = intents_json['intents']\n",
    "    for i in list_of_intents:\n",
    "        if(i['tag']== tag):\n",
    "            result = random.choice(i['responses'])\n",
    "            break\n",
    "    return result\n",
    "\n",
    "def chatbot_response(text):\n",
    "    ints = predict_class(text, model)\n",
    "    res = getResponse(ints, intents)\n",
    "    return res"
   ]
  },
  {
   "cell_type": "markdown",
   "id": "1286267b",
   "metadata": {},
   "source": [
    "\n",
    "Now we will develop a graphical user interface. Let’s use Tkinter library which is shipped with tons of useful libraries for GUI. We will take the input message from the user and then use the helper functions we have created to get the response from the bot and display it on the GUI. Here is the full source code for the GUI."
   ]
  },
  {
   "cell_type": "code",
   "execution_count": 30,
   "id": "7fae7e75",
   "metadata": {},
   "outputs": [],
   "source": [
    "#Creating GUI with tkinter\n",
    "import tkinter\n",
    "from tkinter import *\n",
    "\n",
    "def send():\n",
    "    msg = EntryBox.get(\"1.0\",'end-1c').strip()\n",
    "    EntryBox.delete(\"0.0\",END)\n",
    "    if msg != '':\n",
    "        ChatLog.config(state=NORMAL)\n",
    "        ChatLog.insert(END, \"You: \" + msg + '\\n\\n')\n",
    "        ChatLog.config(foreground=\"#442265\", font=(\"Verdana\", 12 ))\n",
    "        res = chatbot_response(msg)\n",
    "        ChatLog.insert(END, \"Bot: \" + res + '\\n\\n')\n",
    "        ChatLog.config(state=DISABLED)\n",
    "        ChatLog.yview(END)\n",
    "        \n",
    "base = Tk()\n",
    "base.title(\"ChatBot Milou\")\n",
    "base.geometry(\"00x500\")\n",
    "base.resizable(width=FALSE, height=FALSE)\n",
    "#Create Chat window\n",
    "ChatLog = Text(base, bd=0, bg=\"white\", height=\"8\", width=\"50\", font=\"Arial\",)\n",
    "ChatLog.config(state=DISABLED)\n",
    "#Bind scrollbar to Chat window\n",
    "scrollbar = Scrollbar(base, command=ChatLog.yview, cursor=\"heart\")\n",
    "ChatLog['yscrollcommand'] = scrollbar.set\n",
    "#Create Button to send message\n",
    "SendButton = Button(base, font=(\"Verdana\",12,'bold'), text=\"Send\", width=\"12\", height=5,\n",
    "                    bd=0, bg=\"#32de97\", activebackground=\"#3c9d9b\",fg='#ffffff',\n",
    "                    command= send )\n",
    "#Create the box to enter message\n",
    "EntryBox = Text(base, bd=0, bg=\"white\",width=\"29\", height=\"5\", font=\"Arial\")\n",
    "#EntryBox.bind(\"<Return>\", send)\n",
    "#Place all components on the screen\n",
    "scrollbar.place(x=376,y=6, height=386)\n",
    "ChatLog.place(x=6,y=6, height=386, width=370)\n",
    "EntryBox.place(x=128, y=401, height=90, width=265)\n",
    "SendButton.place(x=6, y=401, height=90)\n",
    "base.mainloop()"
   ]
  },
  {
   "cell_type": "markdown",
   "id": "c25dab83",
   "metadata": {},
   "source": [
    "### 6. Run the chatbot <a class=\"anchor\" id=\"chap6\"></a>"
   ]
  },
  {
   "cell_type": "markdown",
   "id": "8bd5ab21",
   "metadata": {},
   "source": [
    "To run the chatbot, we have two main files; train_chatbot.py and chatapp.py.\n",
    "\n",
    "First, we train the model using the command in the terminal:  \n",
    "`python train_chatbot.py`   \n",
    "If we don’t see any error during training, we have successfully created the model. Then to run the app, we run the second file.  \n",
    "`python chatgui.py`   \n",
    "\n",
    "The program will open up a GUI window within a few seconds. With the GUI you can easily chat with the bot."
   ]
  },
  {
   "cell_type": "code",
   "execution_count": null,
   "id": "f2349d5c",
   "metadata": {},
   "outputs": [],
   "source": []
  }
 ],
 "metadata": {
  "kernelspec": {
   "display_name": "Python 3",
   "language": "python",
   "name": "python3"
  },
  "language_info": {
   "codemirror_mode": {
    "name": "ipython",
    "version": 3
   },
   "file_extension": ".py",
   "mimetype": "text/x-python",
   "name": "python",
   "nbconvert_exporter": "python",
   "pygments_lexer": "ipython3",
   "version": "3.8.8"
  }
 },
 "nbformat": 4,
 "nbformat_minor": 5
}
